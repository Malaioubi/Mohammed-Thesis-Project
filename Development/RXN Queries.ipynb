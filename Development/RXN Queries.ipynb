{
 "cells": [
  {
   "cell_type": "code",
   "execution_count": 58,
   "id": "0cbfd30e",
   "metadata": {},
   "outputs": [],
   "source": [
    "# CMF dictionary for Charge Migration Fragmentation reactions with correct atom mapping\n",
    "CMF_reactions = {\n",
    "    # Positive ion mode \n",
    "    'simple_inductive_cleavage': '[O+,N+,S+:2]-[C:1]>>[C+:1].[O,N,S:2]',  # Simple inductive cleavage with charge migration\n",
    "    \n",
    "    'inductive_cleavage_heteroatom': '[O,N,S:1]-[C:2]-[*+:3]>>[O+,N+,S+:1]=[C+:2].[*:3]',  # Heteroatom-assisted cleavage\n",
    "    \n",
    "    'displacement_reaction_positive_a': '[O,N,S:1]-[C:2]-[C:3]-[*+:4]>>[C:3]1-[C:2]-[O+,N+,S+:1]-1.[*:4]',  # Displacement reaction in positive ion mode\n",
    "    \n",
    "    'displacement_reaction_positive_b': '[O,N,S,C:1]=[C:2]-[C:3]-[*+:4]>>[O+,N+,S+:1]-[C:2]=[C:3].[*:4]',  # Displacement reaction in positive ion mode\n",
    "\n",
    "    'beta_hydrogen_removal_positive': '[O,N,S:1]-[C:2]-[C;H:3]-[C:4]-[*+:5]>>[O+,N+,S+;H1:1]-[C:2]-[C:3]=[C:4].[*:5]',  # β-hydrogen removal with charge migration\n",
    "    \n",
    "    'grob_wharton_fragmentation': '[O,N,S:1]-[C:2]-[C:3]-[C:4]-[*+:5]>>[O+,N+,S+:1]=[C:2].[C:3]=[C:4].[*:5]',  # Grob-Wharton fragmentation\n",
    "\n",
    "    # Negative ion mode \n",
    "    'alpha_elimination': '[C:1]-[C:2](=[O,S,N:3])-[O-,N-,S-:4]>>[C-:1].[C:2](=[O,S,N:3])-[O,N,S:4]',  # α-Elimination\n",
    "    \n",
    "    'gamma_elimination': '[O-,N-,S-:1]-[C:2]=[C:3]-[C:4]-[*:5]>>[O,N,S:1]=[C:2]-[C:3]=[C:4].[*-:5]',  # γ-Elimination\n",
    "    \n",
    "    'epsilon_elimination': '[O-,N-,S-:1]-[C:2]=[C:3]-[C:4]=[C:5]-[C:6][*:7]>>[O,N,S:1]=[C:2]-[C:3]=[C:4]-[C:5]=[C:6].[*-:7]',  # ε-Elimination\n",
    "    \n",
    "    'displacement_reaction_negative': '[O-,N-,S-:1]-[C:2]-[C:3]-[*:4]>>[O,N,S:1]1-[C:2]-[C:3]-1.[*-:4]',  # Displacement reaction (negative mode)\n",
    "    \n",
    "    'beta_hydrogen_removal_negative': '[O-,N-,S-:1]-[C:2]-[C;H:3]-[C:4]-[*:5]>>[O,N,S;H1:1]-[C:2]-[C:3]=[C:4].[*-:5]',  # β-Hydrogen removal (negative mode)\n",
    "}\n",
    "\n"
   ]
  },
  {
   "cell_type": "code",
   "execution_count": 1,
   "id": "89e989f5",
   "metadata": {},
   "outputs": [],
   "source": [
    "# CRF dictionary for Charge Retention Fragmentation reactions with correct atom mapping\n",
    "CRF_reactions = {\n",
    "    'remote_hydrogen_rearrangement_a': '[O,N,S:1]-[C:2]-[C:3]-[H:4]>>[C:2]=[C:3].[H:4]-[O,N,S:1]',  # Remote H rearrangement\n",
    "    \n",
    "    'remote_hydrogen_rearrangement_b': '[C:1]-[C:2]-[O:3]-[H:4]>>[C:1]-[H:4].[C:2]=[O:3]',  # Alternative remote H rearrangement\n",
    "    \n",
    "    'retro_diels_alder': '[C:1]1=[C:2]-[C:3]-[C:4]-[C:5]-[C:6]-1>>[C:6]=[C:1]-[C:2]=[C:3].[C:4]=[C:5]',  # Retro-Diels-Alder (RDA) reaction\n",
    "    \n",
    "    'retro_ene': '[C:2]=[C:1]-[C:3]-[C:4]-[C:5]-[H:6]>>[H:6]-[C:2]-[C:3]=[C:1].[C:4]=[C:5]',  # Retro-ene reaction\n",
    "    \n",
    "    'retro_heteroene': '[O,N,S:1]=[C:2]-[C:3]-[C:4]-[C:5]-[H:6]>>[H:6]-[O,N,S:1]-[C:2]=[C:3].[C:4]=[C:5]',  # Retro-heteroene reaction\n",
    "\n",
    "    'charge_remote_fragmentation': '[H:1]-[C:2]-[C:3]-[C:4]-[C:5]-[H:6]>>[C:2]=[C:3].[C:4]=[C:5].[H:1]-[H:6]',  # Charge remote fragmentation\n",
    "\n",
    "    'aromatic_elimination': '[C:1]-[C:2]-[C:3]-[C:4]-[C:5]-[C:6]-[C:7]-[C:8]-[O,N,S:9]>>[C:1]=[C:8]-[O,N,S:9].[c:2]1[c:3][c:4][c:5][c:6][c:7]1',  \n",
    "   \n",
    "    'pericyclic_shift': '[C:1]-[C:2]-[C:3]-[C:4]-[C:5]-[C:6]>>[C:1]=[C:3].[C:5]=[C:6].[C:3]=[C:4]', \n",
    "    \n",
    "    'pericyclic_1_3_shift': '[H:1]-[C:2]-[C:3]=[C:4]-[C:5]=[C:6]>>[C:2]=[C:3]-[C:4](-[H:1])=[C:5]-[C:6]', \n",
    "    \n",
    "    'pericyclic_1_5_shift': '[H:1]-[C:2]-[C:3]=[C:4]-[C:5]=[C:6]>>[C:2]=[C:3]-[C:4]=[C:5]-[C:6](-[H:1])', \n",
    "    \n",
    "    'carbon_monoxide_elimination_a': '[C:1]1-[C:2]-[C:3]-[C:4]-[C:5]-[C:6](=O)-1>>[C:1]1-[C:2]-[C:3]-[C:4]-[C:5]-1.[C:6](#O)',  # CO elimination from cyclic carbonyls\n",
    "    \n",
    "    'carbon_monoxide_elimination_b': '[C:6](#[O+1])-[C:1]-[C:2]-[C:3]-[C:4]-[C-:5]>>[C:1]1-[C:2]-[C:3]-[C:4]-[C:5]-1.[C:6](#O)',  # Alternative CO elimination\n",
    "    \n",
    "    'radical_fragmentation': '[C:1]-[O,N,S:2]>>[C^1:1].[O^1,N^1,S^1:2]',  # Radical fragmentation\n",
    "}"
   ]
  },
  {
   "cell_type": "code",
   "execution_count": 3,
   "id": "5b535d41",
   "metadata": {},
   "outputs": [
    {
     "name": "stdout",
     "output_type": "stream",
     "text": [
      "Collecting rdkit-pypi\n",
      "  Using cached rdkit_pypi-2022.9.5-cp39-cp39-manylinux_2_17_x86_64.manylinux2014_x86_64.whl (29.4 MB)\n",
      "Requirement already satisfied: numpy in /opt/conda/lib/python3.9/site-packages (from rdkit-pypi) (1.23.5)\n",
      "Requirement already satisfied: Pillow in /opt/conda/lib/python3.9/site-packages (from rdkit-pypi) (9.5.0)\n",
      "Installing collected packages: rdkit-pypi\n",
      "Successfully installed rdkit-pypi-2022.9.5\n"
     ]
    }
   ],
   "source": [
    "!pip install rdkit-pypi"
   ]
  },
  {
   "cell_type": "code",
   "execution_count": 1,
   "id": "ae8f8a54",
   "metadata": {},
   "outputs": [
    {
     "data": {
      "image/png": "[encoded data removed]",
      "text/plain": [
       "<PIL.PngImagePlugin.PngImageFile image mode=RGB size=800x200>"
      ]
     },
     "execution_count": 1,
     "metadata": {},
     "output_type": "execute_result"
    }
   ],
   "source": [
    "from rdkit import Chem\n",
    "from rdkit.Chem import AllChem\n",
    "from rdkit.Chem import Draw\n",
    "\n",
    "# Define the SMARTS pattern for the reaction\n",
    "test = '[O+,N+,S+:2]-[C:1]>>[C+:1].[O,N,S:2]'\n",
    "\n",
    "# Create the reaction object\n",
    "reaction = AllChem.ReactionFromSmarts(test)\n",
    "\n",
    "# Draw the reaction\n",
    "image = Draw.ReactionToImage(reaction)\n",
    "image"
   ]
  },
  {
   "cell_type": "code",
   "execution_count": 2,
   "id": "c26f0b79",
   "metadata": {},
   "outputs": [
    {
     "name": "stderr",
     "output_type": "stream",
     "text": [
      "[21:15:13] mapped atoms in the reactants were not mapped in the products.\n",
      "  unmapped numbers are: 2 \n"
     ]
    },
    {
     "data": {
      "image/png": "[encoded data removed]",
      "text/plain": [
       "<IPython.core.display.Image object>"
      ]
     },
     "execution_count": 2,
     "metadata": {},
     "output_type": "execute_result"
    }
   ],
   "source": [
    "from rdkit import Chem\n",
    "from rdkit.Chem import AllChem\n",
    "from rdkit.Chem import Draw\n",
    "\n",
    "reaction_smarts = '[A:1]1=[A:2]-[A:3]-[A:4]-[A:5]-[A:6]-1>>[A:6]=[A:1]-[A2]=[A:3].[A:4]=[A:5]'\n",
    "\n",
    "# # Create the reaction object\n",
    "reaction = AllChem.ReactionFromSmarts(reaction_smarts)\n",
    "\n",
    "\n",
    "reactant_smiles = \"C1(C)OC=CC(CCOC)C1\"\n",
    "reactant = Chem.MolFromSmiles(reactant_smiles)\n",
    "\n",
    "reactant\n",
    "\n",
    "# Run the reaction\n",
    "products = reaction.RunReactants((reactant,))\n",
    "from itertools import chain\n",
    "\n",
    "# Convert each product to an RDKit molecule and draw them\n",
    "flattened = list(chain(*products))\n",
    "Draw.MolsToGridImage(flattened, molsPerRow=3, subImgSize=(200, 200))"
   ]
  },
  {
   "cell_type": "code",
   "execution_count": null,
   "id": "f8b31678",
   "metadata": {},
   "outputs": [],
   "source": []
  },
  {
   "cell_type": "code",
   "execution_count": null,
   "id": "0b567eeb",
   "metadata": {},
   "outputs": [],
   "source": []
  },
  {
   "cell_type": "code",
   "execution_count": null,
   "id": "315b3b74",
   "metadata": {},
   "outputs": [],
   "source": []
  },
  {
   "cell_type": "code",
   "execution_count": null,
   "id": "569dc35a",
   "metadata": {},
   "outputs": [],
   "source": []
  },
  {
   "cell_type": "code",
   "execution_count": null,
   "id": "6cd1db27",
   "metadata": {},
   "outputs": [],
   "source": []
  },
  {
   "cell_type": "code",
   "execution_count": null,
   "id": "3603575f",
   "metadata": {},
   "outputs": [],
   "source": [
    "fragmentations = { \n",
    "#CMF Reactions:\n",
    "##Positive ion mode:\n",
    "    'simple_inductive_cleavage': '[O+,N+,S+:2]-[#6:1]>>[#6+:1].[O,N,S;+0:2]',  # Simple inductive cleavage with charge migration\n",
    "    'inductive_cleavage_heteroatom': '[O,N,S:1]-[#6:2]-[*+:3]>>[O+,N+,S+:1]=[#6:2].[*;+0:3]',  # Heteroatom-assisted cleavage\n",
    "    'displacement_reaction_positive_a': '[O,N,S:1]-[#6:2]-[#6:3]-[*+:4]>>[#6:3]1-[#6:2]-[O+,N+,S+:1]-1.[*;+0:4]',  # Displacement reaction in positive ion mode\n",
    "    'displacement_reaction_positive_b': '[O,N,S,#6:1]=[#6:2]-[#6:3]-[*+:4]>>[O+,N+,S+,C+:1]-[#6:2]=[#6:3].[*;+0:4]',  # Displacement reaction in positive ion mod\n",
    "    'beta_hydrogen_removal_positive': '[O,N,S:1]-[#6:2]-[#6;H:3]-[#6:4]-[*+:5]>>[O+,N+,S+;H1:1]-[#6:2]-[#6:3]=[#6:4].[*;+0:5]',  # β-hydrogen removal with charge migration\n",
    "    'grob_wharton_fragmentation': '[O,N,S:1]-[#6:2]-[#6:3]-[#6:4]-[*+:5]>>[O+,N+,S+:1]=[#6:2].[#6:3]=[#6:4].[*;+0:5]',  # Grob-Wharton fragmentation\n",
    "\n",
    "##Negative ion mode:\n",
    "    'alpha_elimination': '[#6:1]-[#6:2](=[O,S,N:3])-[O-,N-,S-:4]>>[#6-:1].[#6:2](=[O,S,N:3])-[O,N,S:4]',  # α-Elimination\n",
    "    'gamma_elimination': '[O-,N-,S-:1]-[#6:2]=[#6:3]-[#6:4]-[*:5]>>[O,N,S:1]=[#6:2]-[#6:3]=[#6:4].[*-:5]',  # γ-Elimination\n",
    "    'epsilon_elimination': '[O-,N-,S-:1]-[#6:2]=[#6:3]-[#6:4]=[#6:5]-[#6:6][*:7]>>[O,N,S:1]=[#6:2]-[#6:3]=[#6:4]-[#6:5]=[#6:6].[*-:7]',  # ε-Elimination\n",
    "    'displacement_reaction_negative': '[O-,N-,S-:1]-[#6:2]-[#6:3]-[*:4]>>[O,N,S:1]1-[#6:2]-[#6:3]-1.[*-:4]',  # Displacement reaction (negative mode)\n",
    "    'beta_hydrogen_removal_negative': '[O-,N-,S-:1]-[#6:2]-[#6;H:3]-[#6:4]-[*:5]>>[O,N,S;H1:1]-[#6:2]-[#6:3]=[#6:4].[*-:5]',  # β-Hydrogen removal (negative mode)\n",
    "    \n",
    "#CRF Reactions:\n",
    "    'remote_hydrogen_rearrangement_a': '[O,N,S:1]-[#6:2]-[#6:3]-[H:4]>>[#6:2]=[#6:3].[H:4]-[O,N,S:1]',  # Remote H rearrangement\n",
    "    'remote_hydrogen_rearrangement_b': '[#6:1]-[#6:2]-[O:3]-[H:4]>>[#6:1]-[H:4].[#6:2]=[O:3]',  # Alternative remote H rearrangement\n",
    "    'retro_diels_alder': '[#6:1]1=[#6:2]-[#6:3]-[#6:4]-[#6:5]-[#6:6]-1>>[#6:6]=[#6:1]-[#6:2]=[#6:3].[#6:4]=[#6:5]',  # Retro-Diels-Alder (RDA) reaction\n",
    "    'retro_ene': '[#6:2]=[#6:1]-[#6:3]-[#6:4]-[#6:5]-[H:6]>>[H:6]-[#6:2]-[#6:3]=[#6:1].[#6:4]=[#6:5]',  # Retro-ene reaction\n",
    "    'retro_heteroene': '[O,N,S:1]=[#6:2]-[#6:3]-[#6:4]-[#6:5]-[H:6]>>[H:6]-[O,N,S:1]-[#6:2]=[#6:3].[#6:4]=[#6:5]',  # Retro-heteroene reaction\n",
    "    'charge_remote_fragmentation': '[H:1]-[#6:2]-[#6:3]-[#6:4]-[#6:5]-[H:6]>>[#6:2]=[#6:3].[#6:4]=[#6:5].[H:1]-[H:6]',  # Charge remote fragmentation\n",
    "    'aromatic_elimination': '[#6:1]-[#6:2]-[#6:3]-[#6:4]-[#6:5]-[#6:6]-[#6:7]-[#6:8]-[O,N,S:9]>>[#6:1]=[#6:8]-[O,N,S:9].[#6:2]1[#6:3][#6:4][#6:5][#6:6][#6:7]1',  \n",
    "    'pericyclic_shift': '[#6:1]-[#6:2]-[#6:3]-[#6:4]-[#6:5]-[#6:6]>>[#6:1]=[#6:2].[#6:5]=[#6:6].[#6:3]=[#6:4]', \n",
    "    'pericyclic_1_3_shift': '[H:1]-[#6:2]-[#6:3]=[#6:4]-[#6:5]=[#6:6]>>[#6:2]=[#6:3]-[#6:4](-[H:1])=[#6:5]-[#6:6]', \n",
    "    'pericyclic_1_5_shift': '[H:1]-[#6:2]-[#6:3]=[#6:4]-[#6:5]=[#6:6]>>[#6:2]=[#6:3]-[#6:4]=[#6:5]-[#6:6](-[H:1])', \n",
    "    'carbon_monoxide_elimination_a': '[#6:1]1-[#6:2]-[#6:3]-[#6:4]-[#6:5]-[#6:6](=O)-1>>[#6:1]1-[#6:2]-[#6:3]-[#6:4]-[#6:5]-1.[#6:6](#O)',  # CO elimination from cyclic carbonyls\n",
    "    'carbon_monoxide_elimination_b': '[#6:6](#[O+1])-[#6:1]-[#6:2]-[#6:3]-[#6:4]-[#6-:5]>>[#6:1]1-[#6:2]-[#6:3]-[#6:4]-[#6:5]-1.[#6:6](#O;+0)',  # Alternative CO elimination\n",
    "    #'radical_fragmentation': '[#6:1]-[O,N,S:2]>>[#6^1:1].[O^1,N^1,S^1:2]',  # Radical fragmentation\n",
    "}"
   ]
  }
 ],
 "metadata": {
  "kernelspec": {
   "display_name": "Python 3 (ipykernel)",
   "language": "python",
   "name": "python3"
  },
  "language_info": {
   "codemirror_mode": {
    "name": "ipython",
    "version": 3
   },
   "file_extension": ".py",
   "mimetype": "text/x-python",
   "name": "python",
   "nbconvert_exporter": "python",
   "pygments_lexer": "ipython3",
   "version": "3.9.13"
  }
 },
 "nbformat": 4,
 "nbformat_minor": 5
}
